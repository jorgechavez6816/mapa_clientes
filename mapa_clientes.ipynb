{
 "cells": [
  {
   "cell_type": "code",
   "execution_count": 1,
   "metadata": {},
   "outputs": [
    {
     "name": "stdout",
     "output_type": "stream",
     "text": [
      "     NUM_CLI  NUM_DE_REGS  TOTAL_SUMA  NUM_CLI1  \\\n",
      "0      10000            1      193.33   10000.0   \n",
      "1      10003            1     6971.16   10003.0   \n",
      "2      10004            1     4612.30   10004.0   \n",
      "3      10005            1     6589.00   10005.0   \n",
      "4      10006            1    13507.45   10006.0   \n",
      "..       ...          ...         ...       ...   \n",
      "298    92431           37   246823.96   92431.0   \n",
      "299    92611            2      573.24   92611.0   \n",
      "300    92621            2    33603.90   92621.0   \n",
      "301    92700            2    11304.54   92700.0   \n",
      "302    94211            2     1838.98   94211.0   \n",
      "\n",
      "                                COMPAÑIA   NOMBRE APELLIDO       PAIS ESTADO  \\\n",
      "0                            Timekeepers    MARIU  EUGENIA  ARGENTINA      A   \n",
      "1                 Diseños de la Vendimia     JOSE  ERNESTO  ARGENTINA      A   \n",
      "2                    Relojes Cristalinos   MARISU   HERNAN  ARGENTINA      A   \n",
      "3                           Clockwatcher   JUANMA     JUAN  ARGENTINA      A   \n",
      "4    Contadores de tiempo de la estrella    MARIA   TERESA  ARGENTINA      A   \n",
      "..                                   ...      ...      ...        ...    ...   \n",
      "298           Damascene Jewelry Of Spain  EDUARDO    PEREZ      SPAIN      A   \n",
      "299                            Jóia Fina  ARMANDO  AZEVEDO   PORTUGAL      A   \n",
      "300                      Relógios Do Rua    PAULO      RUA   PORTUGAL      A   \n",
      "301                   Jóias No Alcantara    KAREN  PEREIRA   PORTUGAL      A   \n",
      "302                       Jóia De Lisboa  LUCINDA   MENDES   PORTUGAL      A   \n",
      "\n",
      "     LIM_CREDITO  ...  UBIGEO23   UBIGEO3    UBIGEO              DISTRITO  \\\n",
      "0          10000  ...        28  150142.0  150142.0     Villa El Salvador   \n",
      "1           2000  ...         9  150111.0  150111.0           El Agustino   \n",
      "2           6000  ...        21  150109.0  150109.0           Cieneguilla   \n",
      "3          19000  ...         2  150120.0  150120.0     Magdalena del Mar   \n",
      "4           5000  ...        25  150121.0  150121.0          Pueblo Libre   \n",
      "..           ...  ...       ...       ...       ...                   ...   \n",
      "298       245000  ...        19  150127.0  150127.0           Punta Negra   \n",
      "299        51000  ...        28  150107.0  150107.0            Chaclacayo   \n",
      "300        35000  ...        17  150135.0  150135.0  San Martin de Porres   \n",
      "301        15000  ...         7  150141.0  150141.0             Surquillo   \n",
      "302         3000  ...        40  150112.0  150112.0         Independencia   \n",
      "\n",
      "     PROVINCIA  DEPARTAMENTO  POBLACION  SUPERFICIE     LONG      LAT  \n",
      "0         Lima          Lima     489583       35.46 -12.2164 -76.9433  \n",
      "1         Lima          Lima     198366       12.54 -12.0433 -76.9986  \n",
      "2         Lima          Lima      50486      240.33 -12.1178 -76.8125  \n",
      "3         Lima          Lima      55786        3.61 -12.0967 -77.0747  \n",
      "4         Lima          Lima      77322        4.38 -12.0733 -77.0631  \n",
      "..         ...           ...        ...         ...      ...      ...  \n",
      "298       Lima          Lima       8500      130.50 -12.3661 -76.7947  \n",
      "299       Lima          Lima      44890       39.50 -11.9783 -76.7642  \n",
      "300       Lima          Lima     741417       36.82 -12.0303 -77.0469  \n",
      "301       Lima          Lima      92908        3.46 -12.1136 -77.0081  \n",
      "302       Lima          Lima     223827       14.56 -12.0008 -77.0522  \n",
      "\n",
      "[303 rows x 27 columns]\n"
     ]
    }
   ],
   "source": [
    "#dataset de archivo clientes de IDEA\n",
    "\n",
    "#01. Importación de librerías\n",
    "import numpy as np\n",
    "import pandas as pd\n",
    "import folium\n",
    "import re\n",
    "\n",
    "#02. Importación de data\n",
    "clientes = pd.read_excel('C:\\\\Users\\\\intel\\\\Documents\\\\Mis documentos IDEA\\\\Samples\\\\Exportaciones.ILB\\\\Resumen_Clientes_UBIGEO.xlsx')\n",
    "clientes.head()\n",
    "print(clientes)\n",
    "\n",
    "#03. Creación del mapa con librería folium\n",
    "mapa = folium.Map(location=[-12.0705,-77.0078,], zoom_start=12)\n",
    "\n",
    "#04. Agregamos los markers con el nombre del cliente\n",
    "for idx, row in clientes.iterrows():\n",
    "    folium.Marker(location= [row['LONG'],row['LAT']],\n",
    "                    popup=row['COMPAÑIA'], \n",
    "                    icon = folium.Icon(color='green', icon = 'info-sign')\n",
    "                    ).add_to(mapa)\n",
    "\n",
    "#05. Resultados en mapa\n",
    "mapa.save(\"C:\\\\Users\\\\intel\\\\Desktop\\\\Clientes_IDEA.html\")"
   ]
  },
  {
   "cell_type": "code",
   "execution_count": null,
   "metadata": {},
   "outputs": [],
   "source": []
  }
 ],
 "metadata": {
  "kernelspec": {
   "display_name": "Python 3",
   "language": "python",
   "name": "python3"
  },
  "language_info": {
   "codemirror_mode": {
    "name": "ipython",
    "version": 3
   },
   "file_extension": ".py",
   "mimetype": "text/x-python",
   "name": "python",
   "nbconvert_exporter": "python",
   "pygments_lexer": "ipython3",
   "version": "3.7.6"
  }
 },
 "nbformat": 4,
 "nbformat_minor": 4
}
